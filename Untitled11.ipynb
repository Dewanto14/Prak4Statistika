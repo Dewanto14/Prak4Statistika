{
 "cells": [
  {
   "cell_type": "code",
   "execution_count": 1,
   "id": "8e75ce3d",
   "metadata": {},
   "outputs": [
    {
     "name": "stdout",
     "output_type": "stream",
     "text": [
      "0.1285054390988551\n"
     ]
    }
   ],
   "source": [
    "from scipy import stats\n",
    "X = stats.binom(15,0.1)\n",
    "print(X.pmf(3))"
   ]
  },
  {
   "cell_type": "code",
   "execution_count": 3,
   "id": "1d28e49f",
   "metadata": {},
   "outputs": [
    {
     "name": "stdout",
     "output_type": "stream",
     "text": [
      "0.8159389308936089\n"
     ]
    }
   ],
   "source": [
    "print(X.cdf(2))"
   ]
  },
  {
   "cell_type": "code",
   "execution_count": 4,
   "id": "8b81ca1e",
   "metadata": {},
   "outputs": [
    {
     "name": "stdout",
     "output_type": "stream",
     "text": [
      "0.002216045197080002\n"
     ]
    }
   ],
   "source": [
    "print(X.pmf(6)+(X.pmf(7)))"
   ]
  },
  {
   "cell_type": "code",
   "execution_count": 5,
   "id": "0e180bcd",
   "metadata": {},
   "outputs": [
    {
     "name": "stdout",
     "output_type": "stream",
     "text": [
      "0.17546736976785063\n"
     ]
    }
   ],
   "source": [
    "from scipy import stats\n",
    "\n",
    "Y = stats.poisson(5)\n",
    "print(Y.pmf(4))"
   ]
  },
  {
   "cell_type": "code",
   "execution_count": 8,
   "id": "e326665f",
   "metadata": {},
   "outputs": [
    {
     "name": "stdout",
     "output_type": "stream",
     "text": [
      "0.17886305056987967\n"
     ]
    }
   ],
   "source": [
    "from scipy import stats\n",
    "\n",
    "X = stats.binom(20,0.7)\n",
    "pmf_15 = X.pmf(15)\n",
    "print(pmf_15)"
   ]
  },
  {
   "cell_type": "code",
   "execution_count": 9,
   "id": "bfa03ece",
   "metadata": {},
   "outputs": [
    {
     "name": "stdout",
     "output_type": "stream",
     "text": [
      "0.18044704431548356\n"
     ]
    }
   ],
   "source": [
    "from scipy import stats\n",
    "\n",
    "Y = stats.poisson(2)\n",
    "print(Y.pmf(3))"
   ]
  },
  {
   "cell_type": "code",
   "execution_count": null,
   "id": "fba237e2",
   "metadata": {},
   "outputs": [],
   "source": []
  }
 ],
 "metadata": {
  "kernelspec": {
   "display_name": "Python 3 (ipykernel)",
   "language": "python",
   "name": "python3"
  },
  "language_info": {
   "codemirror_mode": {
    "name": "ipython",
    "version": 3
   },
   "file_extension": ".py",
   "mimetype": "text/x-python",
   "name": "python",
   "nbconvert_exporter": "python",
   "pygments_lexer": "ipython3",
   "version": "3.11.4"
  }
 },
 "nbformat": 4,
 "nbformat_minor": 5
}
